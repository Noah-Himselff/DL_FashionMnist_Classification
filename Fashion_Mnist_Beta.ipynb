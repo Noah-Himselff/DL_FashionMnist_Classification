{
 "cells": [
  {
   "attachments": {},
   "cell_type": "markdown",
   "metadata": {},
   "source": [
    "Fashion Mnist Dataset Using Deep Learning ANN Classification,A Full Exploration Of Optimizers Given The Same Settings"
   ]
  },
  {
   "attachments": {},
   "cell_type": "markdown",
   "metadata": {},
   "source": [
    "1-Importing libraries and reading the data"
   ]
  },
  {
   "cell_type": "code",
   "execution_count": 354,
   "metadata": {},
   "outputs": [],
   "source": [
    "import pandas as pd\n",
    "import matplotlib.pyplot as plt\n",
    "import tensorflow as tf\n",
    "from tensorflow import keras\n",
    "from sklearn.model_selection import train_test_split\n",
    "%matplotlib inline"
   ]
  },
  {
   "cell_type": "code",
   "execution_count": 355,
   "metadata": {},
   "outputs": [],
   "source": [
    "fmtrain = pd.read_csv(r'C:\\Users\\user\\Downloads\\fashion-mnist_train.csv')\n",
    "fmtest = pd.read_csv(r'C:\\Users\\user\\Downloads\\fashion-mnist_test.csv')"
   ]
  },
  {
   "cell_type": "code",
   "execution_count": 356,
   "metadata": {},
   "outputs": [
    {
     "data": {
      "text/html": [
       "<div>\n",
       "<style scoped>\n",
       "    .dataframe tbody tr th:only-of-type {\n",
       "        vertical-align: middle;\n",
       "    }\n",
       "\n",
       "    .dataframe tbody tr th {\n",
       "        vertical-align: top;\n",
       "    }\n",
       "\n",
       "    .dataframe thead th {\n",
       "        text-align: right;\n",
       "    }\n",
       "</style>\n",
       "<table border=\"1\" class=\"dataframe\">\n",
       "  <thead>\n",
       "    <tr style=\"text-align: right;\">\n",
       "      <th></th>\n",
       "      <th>label</th>\n",
       "      <th>pixel1</th>\n",
       "      <th>pixel2</th>\n",
       "      <th>pixel3</th>\n",
       "      <th>pixel4</th>\n",
       "      <th>pixel5</th>\n",
       "      <th>pixel6</th>\n",
       "      <th>pixel7</th>\n",
       "      <th>pixel8</th>\n",
       "      <th>pixel9</th>\n",
       "      <th>...</th>\n",
       "      <th>pixel775</th>\n",
       "      <th>pixel776</th>\n",
       "      <th>pixel777</th>\n",
       "      <th>pixel778</th>\n",
       "      <th>pixel779</th>\n",
       "      <th>pixel780</th>\n",
       "      <th>pixel781</th>\n",
       "      <th>pixel782</th>\n",
       "      <th>pixel783</th>\n",
       "      <th>pixel784</th>\n",
       "    </tr>\n",
       "  </thead>\n",
       "  <tbody>\n",
       "    <tr>\n",
       "      <th>0</th>\n",
       "      <td>2</td>\n",
       "      <td>0</td>\n",
       "      <td>0</td>\n",
       "      <td>0</td>\n",
       "      <td>0</td>\n",
       "      <td>0</td>\n",
       "      <td>0</td>\n",
       "      <td>0</td>\n",
       "      <td>0</td>\n",
       "      <td>0</td>\n",
       "      <td>...</td>\n",
       "      <td>0</td>\n",
       "      <td>0</td>\n",
       "      <td>0</td>\n",
       "      <td>0</td>\n",
       "      <td>0</td>\n",
       "      <td>0</td>\n",
       "      <td>0</td>\n",
       "      <td>0</td>\n",
       "      <td>0</td>\n",
       "      <td>0</td>\n",
       "    </tr>\n",
       "    <tr>\n",
       "      <th>1</th>\n",
       "      <td>9</td>\n",
       "      <td>0</td>\n",
       "      <td>0</td>\n",
       "      <td>0</td>\n",
       "      <td>0</td>\n",
       "      <td>0</td>\n",
       "      <td>0</td>\n",
       "      <td>0</td>\n",
       "      <td>0</td>\n",
       "      <td>0</td>\n",
       "      <td>...</td>\n",
       "      <td>0</td>\n",
       "      <td>0</td>\n",
       "      <td>0</td>\n",
       "      <td>0</td>\n",
       "      <td>0</td>\n",
       "      <td>0</td>\n",
       "      <td>0</td>\n",
       "      <td>0</td>\n",
       "      <td>0</td>\n",
       "      <td>0</td>\n",
       "    </tr>\n",
       "    <tr>\n",
       "      <th>2</th>\n",
       "      <td>6</td>\n",
       "      <td>0</td>\n",
       "      <td>0</td>\n",
       "      <td>0</td>\n",
       "      <td>0</td>\n",
       "      <td>0</td>\n",
       "      <td>0</td>\n",
       "      <td>0</td>\n",
       "      <td>5</td>\n",
       "      <td>0</td>\n",
       "      <td>...</td>\n",
       "      <td>0</td>\n",
       "      <td>0</td>\n",
       "      <td>0</td>\n",
       "      <td>30</td>\n",
       "      <td>43</td>\n",
       "      <td>0</td>\n",
       "      <td>0</td>\n",
       "      <td>0</td>\n",
       "      <td>0</td>\n",
       "      <td>0</td>\n",
       "    </tr>\n",
       "    <tr>\n",
       "      <th>3</th>\n",
       "      <td>0</td>\n",
       "      <td>0</td>\n",
       "      <td>0</td>\n",
       "      <td>0</td>\n",
       "      <td>1</td>\n",
       "      <td>2</td>\n",
       "      <td>0</td>\n",
       "      <td>0</td>\n",
       "      <td>0</td>\n",
       "      <td>0</td>\n",
       "      <td>...</td>\n",
       "      <td>3</td>\n",
       "      <td>0</td>\n",
       "      <td>0</td>\n",
       "      <td>0</td>\n",
       "      <td>0</td>\n",
       "      <td>1</td>\n",
       "      <td>0</td>\n",
       "      <td>0</td>\n",
       "      <td>0</td>\n",
       "      <td>0</td>\n",
       "    </tr>\n",
       "    <tr>\n",
       "      <th>4</th>\n",
       "      <td>3</td>\n",
       "      <td>0</td>\n",
       "      <td>0</td>\n",
       "      <td>0</td>\n",
       "      <td>0</td>\n",
       "      <td>0</td>\n",
       "      <td>0</td>\n",
       "      <td>0</td>\n",
       "      <td>0</td>\n",
       "      <td>0</td>\n",
       "      <td>...</td>\n",
       "      <td>0</td>\n",
       "      <td>0</td>\n",
       "      <td>0</td>\n",
       "      <td>0</td>\n",
       "      <td>0</td>\n",
       "      <td>0</td>\n",
       "      <td>0</td>\n",
       "      <td>0</td>\n",
       "      <td>0</td>\n",
       "      <td>0</td>\n",
       "    </tr>\n",
       "  </tbody>\n",
       "</table>\n",
       "<p>5 rows × 785 columns</p>\n",
       "</div>"
      ],
      "text/plain": [
       "   label  pixel1  pixel2  pixel3  pixel4  pixel5  pixel6  pixel7  pixel8  \\\n",
       "0      2       0       0       0       0       0       0       0       0   \n",
       "1      9       0       0       0       0       0       0       0       0   \n",
       "2      6       0       0       0       0       0       0       0       5   \n",
       "3      0       0       0       0       1       2       0       0       0   \n",
       "4      3       0       0       0       0       0       0       0       0   \n",
       "\n",
       "   pixel9  ...  pixel775  pixel776  pixel777  pixel778  pixel779  pixel780  \\\n",
       "0       0  ...         0         0         0         0         0         0   \n",
       "1       0  ...         0         0         0         0         0         0   \n",
       "2       0  ...         0         0         0        30        43         0   \n",
       "3       0  ...         3         0         0         0         0         1   \n",
       "4       0  ...         0         0         0         0         0         0   \n",
       "\n",
       "   pixel781  pixel782  pixel783  pixel784  \n",
       "0         0         0         0         0  \n",
       "1         0         0         0         0  \n",
       "2         0         0         0         0  \n",
       "3         0         0         0         0  \n",
       "4         0         0         0         0  \n",
       "\n",
       "[5 rows x 785 columns]"
      ]
     },
     "execution_count": 356,
     "metadata": {},
     "output_type": "execute_result"
    }
   ],
   "source": [
    "fmtrain.head()"
   ]
  },
  {
   "cell_type": "code",
   "execution_count": 357,
   "metadata": {},
   "outputs": [
    {
     "data": {
      "text/html": [
       "<div>\n",
       "<style scoped>\n",
       "    .dataframe tbody tr th:only-of-type {\n",
       "        vertical-align: middle;\n",
       "    }\n",
       "\n",
       "    .dataframe tbody tr th {\n",
       "        vertical-align: top;\n",
       "    }\n",
       "\n",
       "    .dataframe thead th {\n",
       "        text-align: right;\n",
       "    }\n",
       "</style>\n",
       "<table border=\"1\" class=\"dataframe\">\n",
       "  <thead>\n",
       "    <tr style=\"text-align: right;\">\n",
       "      <th></th>\n",
       "      <th>label</th>\n",
       "      <th>pixel1</th>\n",
       "      <th>pixel2</th>\n",
       "      <th>pixel3</th>\n",
       "      <th>pixel4</th>\n",
       "      <th>pixel5</th>\n",
       "      <th>pixel6</th>\n",
       "      <th>pixel7</th>\n",
       "      <th>pixel8</th>\n",
       "      <th>pixel9</th>\n",
       "      <th>...</th>\n",
       "      <th>pixel775</th>\n",
       "      <th>pixel776</th>\n",
       "      <th>pixel777</th>\n",
       "      <th>pixel778</th>\n",
       "      <th>pixel779</th>\n",
       "      <th>pixel780</th>\n",
       "      <th>pixel781</th>\n",
       "      <th>pixel782</th>\n",
       "      <th>pixel783</th>\n",
       "      <th>pixel784</th>\n",
       "    </tr>\n",
       "  </thead>\n",
       "  <tbody>\n",
       "    <tr>\n",
       "      <th>0</th>\n",
       "      <td>2</td>\n",
       "      <td>0</td>\n",
       "      <td>0</td>\n",
       "      <td>0</td>\n",
       "      <td>0</td>\n",
       "      <td>0</td>\n",
       "      <td>0</td>\n",
       "      <td>0</td>\n",
       "      <td>0</td>\n",
       "      <td>0</td>\n",
       "      <td>...</td>\n",
       "      <td>0</td>\n",
       "      <td>0</td>\n",
       "      <td>0</td>\n",
       "      <td>0</td>\n",
       "      <td>0</td>\n",
       "      <td>0</td>\n",
       "      <td>0</td>\n",
       "      <td>0</td>\n",
       "      <td>0</td>\n",
       "      <td>0</td>\n",
       "    </tr>\n",
       "    <tr>\n",
       "      <th>1</th>\n",
       "      <td>9</td>\n",
       "      <td>0</td>\n",
       "      <td>0</td>\n",
       "      <td>0</td>\n",
       "      <td>0</td>\n",
       "      <td>0</td>\n",
       "      <td>0</td>\n",
       "      <td>0</td>\n",
       "      <td>0</td>\n",
       "      <td>0</td>\n",
       "      <td>...</td>\n",
       "      <td>0</td>\n",
       "      <td>0</td>\n",
       "      <td>0</td>\n",
       "      <td>0</td>\n",
       "      <td>0</td>\n",
       "      <td>0</td>\n",
       "      <td>0</td>\n",
       "      <td>0</td>\n",
       "      <td>0</td>\n",
       "      <td>0</td>\n",
       "    </tr>\n",
       "    <tr>\n",
       "      <th>2</th>\n",
       "      <td>6</td>\n",
       "      <td>0</td>\n",
       "      <td>0</td>\n",
       "      <td>0</td>\n",
       "      <td>0</td>\n",
       "      <td>0</td>\n",
       "      <td>0</td>\n",
       "      <td>0</td>\n",
       "      <td>5</td>\n",
       "      <td>0</td>\n",
       "      <td>...</td>\n",
       "      <td>0</td>\n",
       "      <td>0</td>\n",
       "      <td>0</td>\n",
       "      <td>30</td>\n",
       "      <td>43</td>\n",
       "      <td>0</td>\n",
       "      <td>0</td>\n",
       "      <td>0</td>\n",
       "      <td>0</td>\n",
       "      <td>0</td>\n",
       "    </tr>\n",
       "    <tr>\n",
       "      <th>3</th>\n",
       "      <td>0</td>\n",
       "      <td>0</td>\n",
       "      <td>0</td>\n",
       "      <td>0</td>\n",
       "      <td>1</td>\n",
       "      <td>2</td>\n",
       "      <td>0</td>\n",
       "      <td>0</td>\n",
       "      <td>0</td>\n",
       "      <td>0</td>\n",
       "      <td>...</td>\n",
       "      <td>3</td>\n",
       "      <td>0</td>\n",
       "      <td>0</td>\n",
       "      <td>0</td>\n",
       "      <td>0</td>\n",
       "      <td>1</td>\n",
       "      <td>0</td>\n",
       "      <td>0</td>\n",
       "      <td>0</td>\n",
       "      <td>0</td>\n",
       "    </tr>\n",
       "    <tr>\n",
       "      <th>4</th>\n",
       "      <td>3</td>\n",
       "      <td>0</td>\n",
       "      <td>0</td>\n",
       "      <td>0</td>\n",
       "      <td>0</td>\n",
       "      <td>0</td>\n",
       "      <td>0</td>\n",
       "      <td>0</td>\n",
       "      <td>0</td>\n",
       "      <td>0</td>\n",
       "      <td>...</td>\n",
       "      <td>0</td>\n",
       "      <td>0</td>\n",
       "      <td>0</td>\n",
       "      <td>0</td>\n",
       "      <td>0</td>\n",
       "      <td>0</td>\n",
       "      <td>0</td>\n",
       "      <td>0</td>\n",
       "      <td>0</td>\n",
       "      <td>0</td>\n",
       "    </tr>\n",
       "    <tr>\n",
       "      <th>5</th>\n",
       "      <td>4</td>\n",
       "      <td>0</td>\n",
       "      <td>0</td>\n",
       "      <td>0</td>\n",
       "      <td>5</td>\n",
       "      <td>4</td>\n",
       "      <td>5</td>\n",
       "      <td>5</td>\n",
       "      <td>3</td>\n",
       "      <td>5</td>\n",
       "      <td>...</td>\n",
       "      <td>7</td>\n",
       "      <td>8</td>\n",
       "      <td>7</td>\n",
       "      <td>4</td>\n",
       "      <td>3</td>\n",
       "      <td>7</td>\n",
       "      <td>5</td>\n",
       "      <td>0</td>\n",
       "      <td>0</td>\n",
       "      <td>0</td>\n",
       "    </tr>\n",
       "    <tr>\n",
       "      <th>6</th>\n",
       "      <td>4</td>\n",
       "      <td>0</td>\n",
       "      <td>0</td>\n",
       "      <td>0</td>\n",
       "      <td>0</td>\n",
       "      <td>0</td>\n",
       "      <td>0</td>\n",
       "      <td>0</td>\n",
       "      <td>0</td>\n",
       "      <td>0</td>\n",
       "      <td>...</td>\n",
       "      <td>14</td>\n",
       "      <td>0</td>\n",
       "      <td>0</td>\n",
       "      <td>0</td>\n",
       "      <td>0</td>\n",
       "      <td>0</td>\n",
       "      <td>0</td>\n",
       "      <td>0</td>\n",
       "      <td>0</td>\n",
       "      <td>0</td>\n",
       "    </tr>\n",
       "    <tr>\n",
       "      <th>7</th>\n",
       "      <td>5</td>\n",
       "      <td>0</td>\n",
       "      <td>0</td>\n",
       "      <td>0</td>\n",
       "      <td>0</td>\n",
       "      <td>0</td>\n",
       "      <td>0</td>\n",
       "      <td>0</td>\n",
       "      <td>0</td>\n",
       "      <td>0</td>\n",
       "      <td>...</td>\n",
       "      <td>0</td>\n",
       "      <td>0</td>\n",
       "      <td>0</td>\n",
       "      <td>0</td>\n",
       "      <td>0</td>\n",
       "      <td>0</td>\n",
       "      <td>0</td>\n",
       "      <td>0</td>\n",
       "      <td>0</td>\n",
       "      <td>0</td>\n",
       "    </tr>\n",
       "    <tr>\n",
       "      <th>8</th>\n",
       "      <td>4</td>\n",
       "      <td>0</td>\n",
       "      <td>0</td>\n",
       "      <td>0</td>\n",
       "      <td>0</td>\n",
       "      <td>0</td>\n",
       "      <td>0</td>\n",
       "      <td>3</td>\n",
       "      <td>2</td>\n",
       "      <td>0</td>\n",
       "      <td>...</td>\n",
       "      <td>1</td>\n",
       "      <td>0</td>\n",
       "      <td>0</td>\n",
       "      <td>0</td>\n",
       "      <td>0</td>\n",
       "      <td>0</td>\n",
       "      <td>0</td>\n",
       "      <td>0</td>\n",
       "      <td>0</td>\n",
       "      <td>0</td>\n",
       "    </tr>\n",
       "    <tr>\n",
       "      <th>9</th>\n",
       "      <td>8</td>\n",
       "      <td>0</td>\n",
       "      <td>0</td>\n",
       "      <td>0</td>\n",
       "      <td>0</td>\n",
       "      <td>0</td>\n",
       "      <td>0</td>\n",
       "      <td>0</td>\n",
       "      <td>0</td>\n",
       "      <td>0</td>\n",
       "      <td>...</td>\n",
       "      <td>203</td>\n",
       "      <td>214</td>\n",
       "      <td>166</td>\n",
       "      <td>0</td>\n",
       "      <td>0</td>\n",
       "      <td>0</td>\n",
       "      <td>0</td>\n",
       "      <td>0</td>\n",
       "      <td>0</td>\n",
       "      <td>0</td>\n",
       "    </tr>\n",
       "    <tr>\n",
       "      <th>10</th>\n",
       "      <td>0</td>\n",
       "      <td>0</td>\n",
       "      <td>0</td>\n",
       "      <td>0</td>\n",
       "      <td>0</td>\n",
       "      <td>1</td>\n",
       "      <td>0</td>\n",
       "      <td>0</td>\n",
       "      <td>0</td>\n",
       "      <td>0</td>\n",
       "      <td>...</td>\n",
       "      <td>164</td>\n",
       "      <td>177</td>\n",
       "      <td>163</td>\n",
       "      <td>0</td>\n",
       "      <td>0</td>\n",
       "      <td>1</td>\n",
       "      <td>0</td>\n",
       "      <td>0</td>\n",
       "      <td>0</td>\n",
       "      <td>0</td>\n",
       "    </tr>\n",
       "    <tr>\n",
       "      <th>11</th>\n",
       "      <td>8</td>\n",
       "      <td>0</td>\n",
       "      <td>0</td>\n",
       "      <td>0</td>\n",
       "      <td>0</td>\n",
       "      <td>0</td>\n",
       "      <td>0</td>\n",
       "      <td>0</td>\n",
       "      <td>0</td>\n",
       "      <td>0</td>\n",
       "      <td>...</td>\n",
       "      <td>9</td>\n",
       "      <td>10</td>\n",
       "      <td>9</td>\n",
       "      <td>9</td>\n",
       "      <td>8</td>\n",
       "      <td>1</td>\n",
       "      <td>0</td>\n",
       "      <td>0</td>\n",
       "      <td>0</td>\n",
       "      <td>0</td>\n",
       "    </tr>\n",
       "    <tr>\n",
       "      <th>12</th>\n",
       "      <td>9</td>\n",
       "      <td>0</td>\n",
       "      <td>0</td>\n",
       "      <td>0</td>\n",
       "      <td>0</td>\n",
       "      <td>0</td>\n",
       "      <td>0</td>\n",
       "      <td>0</td>\n",
       "      <td>0</td>\n",
       "      <td>0</td>\n",
       "      <td>...</td>\n",
       "      <td>0</td>\n",
       "      <td>0</td>\n",
       "      <td>0</td>\n",
       "      <td>0</td>\n",
       "      <td>0</td>\n",
       "      <td>0</td>\n",
       "      <td>0</td>\n",
       "      <td>0</td>\n",
       "      <td>0</td>\n",
       "      <td>0</td>\n",
       "    </tr>\n",
       "    <tr>\n",
       "      <th>13</th>\n",
       "      <td>0</td>\n",
       "      <td>0</td>\n",
       "      <td>0</td>\n",
       "      <td>0</td>\n",
       "      <td>0</td>\n",
       "      <td>0</td>\n",
       "      <td>0</td>\n",
       "      <td>0</td>\n",
       "      <td>0</td>\n",
       "      <td>0</td>\n",
       "      <td>...</td>\n",
       "      <td>0</td>\n",
       "      <td>0</td>\n",
       "      <td>0</td>\n",
       "      <td>0</td>\n",
       "      <td>0</td>\n",
       "      <td>0</td>\n",
       "      <td>1</td>\n",
       "      <td>0</td>\n",
       "      <td>0</td>\n",
       "      <td>0</td>\n",
       "    </tr>\n",
       "    <tr>\n",
       "      <th>14</th>\n",
       "      <td>2</td>\n",
       "      <td>0</td>\n",
       "      <td>0</td>\n",
       "      <td>0</td>\n",
       "      <td>0</td>\n",
       "      <td>1</td>\n",
       "      <td>1</td>\n",
       "      <td>0</td>\n",
       "      <td>0</td>\n",
       "      <td>0</td>\n",
       "      <td>...</td>\n",
       "      <td>0</td>\n",
       "      <td>0</td>\n",
       "      <td>118</td>\n",
       "      <td>190</td>\n",
       "      <td>162</td>\n",
       "      <td>82</td>\n",
       "      <td>0</td>\n",
       "      <td>0</td>\n",
       "      <td>0</td>\n",
       "      <td>0</td>\n",
       "    </tr>\n",
       "  </tbody>\n",
       "</table>\n",
       "<p>15 rows × 785 columns</p>\n",
       "</div>"
      ],
      "text/plain": [
       "    label  pixel1  pixel2  pixel3  pixel4  pixel5  pixel6  pixel7  pixel8  \\\n",
       "0       2       0       0       0       0       0       0       0       0   \n",
       "1       9       0       0       0       0       0       0       0       0   \n",
       "2       6       0       0       0       0       0       0       0       5   \n",
       "3       0       0       0       0       1       2       0       0       0   \n",
       "4       3       0       0       0       0       0       0       0       0   \n",
       "5       4       0       0       0       5       4       5       5       3   \n",
       "6       4       0       0       0       0       0       0       0       0   \n",
       "7       5       0       0       0       0       0       0       0       0   \n",
       "8       4       0       0       0       0       0       0       3       2   \n",
       "9       8       0       0       0       0       0       0       0       0   \n",
       "10      0       0       0       0       0       1       0       0       0   \n",
       "11      8       0       0       0       0       0       0       0       0   \n",
       "12      9       0       0       0       0       0       0       0       0   \n",
       "13      0       0       0       0       0       0       0       0       0   \n",
       "14      2       0       0       0       0       1       1       0       0   \n",
       "\n",
       "    pixel9  ...  pixel775  pixel776  pixel777  pixel778  pixel779  pixel780  \\\n",
       "0        0  ...         0         0         0         0         0         0   \n",
       "1        0  ...         0         0         0         0         0         0   \n",
       "2        0  ...         0         0         0        30        43         0   \n",
       "3        0  ...         3         0         0         0         0         1   \n",
       "4        0  ...         0         0         0         0         0         0   \n",
       "5        5  ...         7         8         7         4         3         7   \n",
       "6        0  ...        14         0         0         0         0         0   \n",
       "7        0  ...         0         0         0         0         0         0   \n",
       "8        0  ...         1         0         0         0         0         0   \n",
       "9        0  ...       203       214       166         0         0         0   \n",
       "10       0  ...       164       177       163         0         0         1   \n",
       "11       0  ...         9        10         9         9         8         1   \n",
       "12       0  ...         0         0         0         0         0         0   \n",
       "13       0  ...         0         0         0         0         0         0   \n",
       "14       0  ...         0         0       118       190       162        82   \n",
       "\n",
       "    pixel781  pixel782  pixel783  pixel784  \n",
       "0          0         0         0         0  \n",
       "1          0         0         0         0  \n",
       "2          0         0         0         0  \n",
       "3          0         0         0         0  \n",
       "4          0         0         0         0  \n",
       "5          5         0         0         0  \n",
       "6          0         0         0         0  \n",
       "7          0         0         0         0  \n",
       "8          0         0         0         0  \n",
       "9          0         0         0         0  \n",
       "10         0         0         0         0  \n",
       "11         0         0         0         0  \n",
       "12         0         0         0         0  \n",
       "13         1         0         0         0  \n",
       "14         0         0         0         0  \n",
       "\n",
       "[15 rows x 785 columns]"
      ]
     },
     "execution_count": 357,
     "metadata": {},
     "output_type": "execute_result"
    }
   ],
   "source": [
    "fmtrain[:15]"
   ]
  },
  {
   "attachments": {},
   "cell_type": "markdown",
   "metadata": {},
   "source": [
    "2-Processing the dataset"
   ]
  },
  {
   "cell_type": "code",
   "execution_count": 358,
   "metadata": {},
   "outputs": [],
   "source": [
    "\n",
    "y=fmtrain['label']\n"
   ]
  },
  {
   "cell_type": "code",
   "execution_count": 359,
   "metadata": {},
   "outputs": [],
   "source": [
    "fmtrain.drop(['label'],axis=1,inplace=True)\n",
    "x=fmtrain"
   ]
  },
  {
   "cell_type": "code",
   "execution_count": 360,
   "metadata": {},
   "outputs": [],
   "source": [
    "x_train,x_test,y_train,y_test=train_test_split(x,y,test_size=0.2,random_state=10)"
   ]
  },
  {
   "cell_type": "code",
   "execution_count": 396,
   "metadata": {},
   "outputs": [
    {
     "data": {
      "text/plain": [
       "(60000,)"
      ]
     },
     "execution_count": 396,
     "metadata": {},
     "output_type": "execute_result"
    }
   ],
   "source": [
    "y.shape"
   ]
  },
  {
   "cell_type": "code",
   "execution_count": 361,
   "metadata": {},
   "outputs": [
    {
     "data": {
      "text/plain": [
       "<bound method Series.info of 0        2\n",
       "1        9\n",
       "2        6\n",
       "3        0\n",
       "4        3\n",
       "        ..\n",
       "59995    9\n",
       "59996    1\n",
       "59997    8\n",
       "59998    8\n",
       "59999    7\n",
       "Name: label, Length: 60000, dtype: int64>"
      ]
     },
     "execution_count": 361,
     "metadata": {},
     "output_type": "execute_result"
    }
   ],
   "source": [
    "y.info"
   ]
  },
  {
   "cell_type": "code",
   "execution_count": 362,
   "metadata": {},
   "outputs": [
    {
     "data": {
      "text/plain": [
       "(60000, 784)"
      ]
     },
     "execution_count": 362,
     "metadata": {},
     "output_type": "execute_result"
    }
   ],
   "source": [
    "x.shape"
   ]
  },
  {
   "cell_type": "code",
   "execution_count": 363,
   "metadata": {},
   "outputs": [
    {
     "data": {
      "text/plain": [
       "<bound method DataFrame.info of        pixel1  pixel2  pixel3  pixel4  pixel5  pixel6  pixel7  pixel8  pixel9  \\\n",
       "0           0       0       0       0       0       0       0       0       0   \n",
       "1           0       0       0       0       0       0       0       0       0   \n",
       "2           0       0       0       0       0       0       0       5       0   \n",
       "3           0       0       0       1       2       0       0       0       0   \n",
       "4           0       0       0       0       0       0       0       0       0   \n",
       "...       ...     ...     ...     ...     ...     ...     ...     ...     ...   \n",
       "59995       0       0       0       0       0       0       0       0       0   \n",
       "59996       0       0       0       0       0       0       0       0       0   \n",
       "59997       0       0       0       0       0       0       0       0       0   \n",
       "59998       0       0       0       0       0       0       0       0       0   \n",
       "59999       0       0       0       0       0       0       0       0       0   \n",
       "\n",
       "       pixel10  ...  pixel775  pixel776  pixel777  pixel778  pixel779  \\\n",
       "0            0  ...         0         0         0         0         0   \n",
       "1            0  ...         0         0         0         0         0   \n",
       "2            0  ...         0         0         0        30        43   \n",
       "3            0  ...         3         0         0         0         0   \n",
       "4            0  ...         0         0         0         0         0   \n",
       "...        ...  ...       ...       ...       ...       ...       ...   \n",
       "59995        0  ...         0         0         0         0         0   \n",
       "59996        0  ...        73         0         0         0         0   \n",
       "59997        0  ...       160       162       163       135        94   \n",
       "59998        0  ...         0         0         0         0         0   \n",
       "59999        0  ...         0         0         0         0         0   \n",
       "\n",
       "       pixel780  pixel781  pixel782  pixel783  pixel784  \n",
       "0             0         0         0         0         0  \n",
       "1             0         0         0         0         0  \n",
       "2             0         0         0         0         0  \n",
       "3             1         0         0         0         0  \n",
       "4             0         0         0         0         0  \n",
       "...         ...       ...       ...       ...       ...  \n",
       "59995         0         0         0         0         0  \n",
       "59996         0         0         0         0         0  \n",
       "59997         0         0         0         0         0  \n",
       "59998         0         0         0         0         0  \n",
       "59999         0         0         0         0         0  \n",
       "\n",
       "[60000 rows x 784 columns]>"
      ]
     },
     "execution_count": 363,
     "metadata": {},
     "output_type": "execute_result"
    }
   ],
   "source": [
    "x.info"
   ]
  },
  {
   "attachments": {},
   "cell_type": "markdown",
   "metadata": {},
   "source": [
    "3-Defining the models"
   ]
  },
  {
   "attachments": {},
   "cell_type": "markdown",
   "metadata": {},
   "source": [
    "all of the models have the same setting,4 layers and 100 neuron for each layer using selu as activation function"
   ]
  },
  {
   "cell_type": "code",
   "execution_count": 364,
   "metadata": {},
   "outputs": [],
   "source": [
    "model = keras.models.Sequential()\n",
    "model.add(keras.layers.Dense(100,activation=\"selu\"))\n",
    "model.add(keras.layers.Dense(100,activation=\"selu\"))\n",
    "model.add(keras.layers.Dense(100,activation=\"selu\"))\n",
    "model.add(keras.layers.Dense(100,activation=\"selu\"))\n",
    "model.add(keras.layers.Dense(10, activation=\"softmax\"))"
   ]
  },
  {
   "cell_type": "code",
   "execution_count": 365,
   "metadata": {},
   "outputs": [],
   "source": [
    "model1 = keras.models.Sequential()\n",
    "model1.add(keras.layers.Dense(100,activation=\"selu\"))\n",
    "model1.add(keras.layers.Dense(100,activation=\"selu\"))\n",
    "model1.add(keras.layers.Dense(100,activation=\"selu\"))\n",
    "model1.add(keras.layers.Dense(100,activation=\"selu\"))\n",
    "model1.add(keras.layers.Dense(10, activation=\"softmax\"))\n"
   ]
  },
  {
   "cell_type": "code",
   "execution_count": 366,
   "metadata": {},
   "outputs": [],
   "source": [
    "model2 = keras.models.Sequential()\n",
    "model2.add(keras.layers.Dense(100,activation=\"selu\"))\n",
    "model2.add(keras.layers.Dense(100,activation=\"selu\"))\n",
    "model2.add(keras.layers.Dense(100,activation=\"selu\"))\n",
    "model2.add(keras.layers.Dense(100,activation=\"selu\"))\n",
    "model2.add(keras.layers.Dense(10, activation=\"softmax\"))\n"
   ]
  },
  {
   "cell_type": "code",
   "execution_count": 367,
   "metadata": {},
   "outputs": [],
   "source": [
    "model3 = keras.models.Sequential()\n",
    "model3.add(keras.layers.Dense(100,activation=\"selu\"))\n",
    "model3.add(keras.layers.Dense(100,activation=\"selu\"))\n",
    "model3.add(keras.layers.Dense(100,activation=\"selu\"))\n",
    "model3.add(keras.layers.Dense(100,activation=\"selu\"))\n",
    "model3.add(keras.layers.Dense(10, activation=\"softmax\"))\n"
   ]
  },
  {
   "cell_type": "code",
   "execution_count": 368,
   "metadata": {},
   "outputs": [],
   "source": [
    "model4 = keras.models.Sequential()\n",
    "model4.add(keras.layers.Dense(100,activation=\"selu\"))\n",
    "model4.add(keras.layers.Dense(100,activation=\"selu\"))\n",
    "model4.add(keras.layers.Dense(100,activation=\"selu\"))\n",
    "model4.add(keras.layers.Dense(10, activation=\"softmax\"))\n"
   ]
  },
  {
   "attachments": {},
   "cell_type": "markdown",
   "metadata": {},
   "source": [
    "4-Compiling the model"
   ]
  },
  {
   "attachments": {},
   "cell_type": "markdown",
   "metadata": {},
   "source": [
    "likewise,same settings for all models"
   ]
  },
  {
   "cell_type": "code",
   "execution_count": 369,
   "metadata": {},
   "outputs": [],
   "source": [
    "model1.compile(loss=\"sparse_categorical_crossentropy\",\n",
    "               optimizer=\"adam\",\n",
    "               metrics=[\"accuracy\"])"
   ]
  },
  {
   "cell_type": "code",
   "execution_count": 370,
   "metadata": {},
   "outputs": [],
   "source": [
    "model2.compile(loss=\"sparse_categorical_crossentropy\",\n",
    "               optimizer=\"adagrad\",\n",
    "               metrics=[\"accuracy\"])"
   ]
  },
  {
   "cell_type": "code",
   "execution_count": 371,
   "metadata": {},
   "outputs": [],
   "source": [
    "model3.compile(loss=\"sparse_categorical_crossentropy\",\n",
    "               optimizer=\"rmsprop\",\n",
    "               metrics=[\"accuracy\"])"
   ]
  },
  {
   "cell_type": "code",
   "execution_count": 372,
   "metadata": {},
   "outputs": [],
   "source": [
    "model4.compile(loss=\"sparse_categorical_crossentropy\",\n",
    "               optimizer=\"nadam\",\n",
    "               metrics=[\"accuracy\"])"
   ]
  },
  {
   "cell_type": "code",
   "execution_count": 373,
   "metadata": {},
   "outputs": [],
   "source": [
    "model.compile(loss=\"sparse_categorical_crossentropy\",\n",
    "              optimizer=\"adamax\",\n",
    "              metrics=[\"accuracy\"])"
   ]
  },
  {
   "cell_type": "code",
   "execution_count": 399,
   "metadata": {},
   "outputs": [
    {
     "name": "stdout",
     "output_type": "stream",
     "text": [
      "Model: \"sequential_26\"\n",
      "_________________________________________________________________\n",
      " Layer (type)                Output Shape              Param #   \n",
      "=================================================================\n",
      " dense_120 (Dense)           (32, 100)                 78500     \n",
      "                                                                 \n",
      " dense_121 (Dense)           (32, 100)                 10100     \n",
      "                                                                 \n",
      " dense_122 (Dense)           (32, 100)                 10100     \n",
      "                                                                 \n",
      " dense_123 (Dense)           (32, 100)                 10100     \n",
      "                                                                 \n",
      " dense_124 (Dense)           (32, 10)                  1010      \n",
      "                                                                 \n",
      "=================================================================\n",
      "Total params: 109,810\n",
      "Trainable params: 109,810\n",
      "Non-trainable params: 0\n",
      "_________________________________________________________________\n"
     ]
    }
   ],
   "source": [
    "#since all of the models follow the same pattern,the same summray is applied to rest\n",
    "model.summary()"
   ]
  },
  {
   "attachments": {},
   "cell_type": "markdown",
   "metadata": {},
   "source": [
    "5-Fitting the models"
   ]
  },
  {
   "cell_type": "code",
   "execution_count": 374,
   "metadata": {},
   "outputs": [
    {
     "name": "stderr",
     "output_type": "stream",
     "text": [
      "C:\\Users\\user\\AppData\\Local\\Packages\\PythonSoftwareFoundation.Python.3.10_qbz5n2kfra8p0\\LocalCache\\local-packages\\Python310\\site-packages\\keras\\engine\\data_adapter.py:1696: FutureWarning: The behavior of `series[i:j]` with an integer-dtype index is deprecated. In a future version, this will be treated as *label-based* indexing, consistent with e.g. `series[i]` lookups. To retain the old behavior, use `series.iloc[i:j]`. To get the future behavior, use `series.loc[i:j]`.\n",
      "  return t[start:end]\n"
     ]
    },
    {
     "name": "stdout",
     "output_type": "stream",
     "text": [
      "Epoch 1/30\n",
      "1200/1200 [==============================] - 4s 3ms/step - loss: 1.9353 - accuracy: 0.7144 - val_loss: 0.8502 - val_accuracy: 0.7649\n",
      "Epoch 2/30\n",
      "1200/1200 [==============================] - 4s 3ms/step - loss: 0.7589 - accuracy: 0.7775 - val_loss: 0.6130 - val_accuracy: 0.7969\n",
      "Epoch 3/30\n",
      "1200/1200 [==============================] - 4s 3ms/step - loss: 0.5865 - accuracy: 0.8065 - val_loss: 0.5924 - val_accuracy: 0.7997\n",
      "Epoch 4/30\n",
      "1200/1200 [==============================] - 4s 3ms/step - loss: 0.4986 - accuracy: 0.8287 - val_loss: 0.4750 - val_accuracy: 0.8369\n",
      "Epoch 5/30\n",
      "1200/1200 [==============================] - 4s 3ms/step - loss: 0.4455 - accuracy: 0.8420 - val_loss: 0.4478 - val_accuracy: 0.8466\n",
      "Epoch 6/30\n",
      "1200/1200 [==============================] - 3s 3ms/step - loss: 0.4098 - accuracy: 0.8527 - val_loss: 0.4203 - val_accuracy: 0.8564\n",
      "Epoch 7/30\n",
      "1200/1200 [==============================] - 3s 3ms/step - loss: 0.3798 - accuracy: 0.8631 - val_loss: 0.4059 - val_accuracy: 0.8650\n",
      "Epoch 8/30\n",
      "1200/1200 [==============================] - 3s 3ms/step - loss: 0.3640 - accuracy: 0.8672 - val_loss: 0.4761 - val_accuracy: 0.8491\n",
      "Epoch 9/30\n",
      "1200/1200 [==============================] - 3s 3ms/step - loss: 0.3421 - accuracy: 0.8744 - val_loss: 0.3907 - val_accuracy: 0.8664\n",
      "Epoch 10/30\n",
      "1200/1200 [==============================] - 3s 3ms/step - loss: 0.3280 - accuracy: 0.8796 - val_loss: 0.4600 - val_accuracy: 0.8466\n",
      "Epoch 11/30\n",
      "1200/1200 [==============================] - 3s 3ms/step - loss: 0.3124 - accuracy: 0.8850 - val_loss: 0.3979 - val_accuracy: 0.8673\n",
      "Epoch 12/30\n",
      "1200/1200 [==============================] - 4s 3ms/step - loss: 0.3017 - accuracy: 0.8876 - val_loss: 0.3970 - val_accuracy: 0.8707\n",
      "Epoch 13/30\n",
      "1200/1200 [==============================] - 3s 3ms/step - loss: 0.2909 - accuracy: 0.8920 - val_loss: 0.3965 - val_accuracy: 0.8687\n",
      "Epoch 14/30\n",
      "1200/1200 [==============================] - 4s 3ms/step - loss: 0.2790 - accuracy: 0.8952 - val_loss: 0.4312 - val_accuracy: 0.8622\n",
      "Epoch 15/30\n",
      "1200/1200 [==============================] - 4s 3ms/step - loss: 0.2718 - accuracy: 0.8995 - val_loss: 0.4053 - val_accuracy: 0.8673\n",
      "Epoch 16/30\n",
      "1200/1200 [==============================] - 4s 3ms/step - loss: 0.2621 - accuracy: 0.9020 - val_loss: 0.3879 - val_accuracy: 0.8734\n",
      "Epoch 17/30\n",
      "1200/1200 [==============================] - 4s 3ms/step - loss: 0.2540 - accuracy: 0.9061 - val_loss: 0.4000 - val_accuracy: 0.8730\n",
      "Epoch 18/30\n",
      "1200/1200 [==============================] - 4s 3ms/step - loss: 0.2490 - accuracy: 0.9065 - val_loss: 0.4098 - val_accuracy: 0.8695\n",
      "Epoch 19/30\n",
      "1200/1200 [==============================] - 4s 3ms/step - loss: 0.2427 - accuracy: 0.9091 - val_loss: 0.4314 - val_accuracy: 0.8716\n",
      "Epoch 20/30\n",
      "1200/1200 [==============================] - 4s 3ms/step - loss: 0.2369 - accuracy: 0.9102 - val_loss: 0.3759 - val_accuracy: 0.8799\n",
      "Epoch 21/30\n",
      "1200/1200 [==============================] - 3s 3ms/step - loss: 0.2297 - accuracy: 0.9139 - val_loss: 0.4185 - val_accuracy: 0.8700\n",
      "Epoch 22/30\n",
      "1200/1200 [==============================] - 4s 3ms/step - loss: 0.2218 - accuracy: 0.9170 - val_loss: 0.4045 - val_accuracy: 0.8750\n",
      "Epoch 23/30\n",
      "1200/1200 [==============================] - 4s 3ms/step - loss: 0.2180 - accuracy: 0.9181 - val_loss: 0.4119 - val_accuracy: 0.8803\n",
      "Epoch 24/30\n",
      "1200/1200 [==============================] - 4s 3ms/step - loss: 0.2078 - accuracy: 0.9227 - val_loss: 0.4345 - val_accuracy: 0.8750\n",
      "Epoch 25/30\n",
      "1200/1200 [==============================] - 4s 3ms/step - loss: 0.2061 - accuracy: 0.9233 - val_loss: 0.4439 - val_accuracy: 0.8675\n",
      "Epoch 26/30\n",
      "1200/1200 [==============================] - 4s 3ms/step - loss: 0.1988 - accuracy: 0.9245 - val_loss: 0.4198 - val_accuracy: 0.8780\n",
      "Epoch 27/30\n",
      "1200/1200 [==============================] - 4s 3ms/step - loss: 0.1945 - accuracy: 0.9267 - val_loss: 0.4129 - val_accuracy: 0.8820\n",
      "Epoch 28/30\n",
      "1200/1200 [==============================] - 4s 3ms/step - loss: 0.1894 - accuracy: 0.9301 - val_loss: 0.4251 - val_accuracy: 0.8819\n",
      "Epoch 29/30\n",
      "1200/1200 [==============================] - 4s 3ms/step - loss: 0.1845 - accuracy: 0.9310 - val_loss: 0.4501 - val_accuracy: 0.8786\n",
      "Epoch 30/30\n",
      "1200/1200 [==============================] - 4s 3ms/step - loss: 0.1820 - accuracy: 0.9321 - val_loss: 0.4327 - val_accuracy: 0.8779\n"
     ]
    }
   ],
   "source": [
    "adamax_performance = model.fit(x_train, y_train, epochs=30, validation_split=0.2)"
   ]
  },
  {
   "cell_type": "code",
   "execution_count": 375,
   "metadata": {},
   "outputs": [
    {
     "name": "stderr",
     "output_type": "stream",
     "text": [
      "C:\\Users\\user\\AppData\\Local\\Packages\\PythonSoftwareFoundation.Python.3.10_qbz5n2kfra8p0\\LocalCache\\local-packages\\Python310\\site-packages\\keras\\engine\\data_adapter.py:1696: FutureWarning: The behavior of `series[i:j]` with an integer-dtype index is deprecated. In a future version, this will be treated as *label-based* indexing, consistent with e.g. `series[i]` lookups. To retain the old behavior, use `series.iloc[i:j]`. To get the future behavior, use `series.loc[i:j]`.\n",
      "  return t[start:end]\n"
     ]
    },
    {
     "name": "stdout",
     "output_type": "stream",
     "text": [
      "Epoch 1/30\n",
      "1200/1200 [==============================] - 4s 3ms/step - loss: 1.3843 - accuracy: 0.7299 - val_loss: 0.5808 - val_accuracy: 0.8052\n",
      "Epoch 2/30\n",
      "1200/1200 [==============================] - 3s 3ms/step - loss: 0.5509 - accuracy: 0.8058 - val_loss: 0.5054 - val_accuracy: 0.8240\n",
      "Epoch 3/30\n",
      "1200/1200 [==============================] - 3s 3ms/step - loss: 0.4912 - accuracy: 0.8263 - val_loss: 0.4784 - val_accuracy: 0.8325\n",
      "Epoch 4/30\n",
      "1200/1200 [==============================] - 3s 3ms/step - loss: 0.4546 - accuracy: 0.8380 - val_loss: 0.4206 - val_accuracy: 0.8523\n",
      "Epoch 5/30\n",
      "1200/1200 [==============================] - 3s 3ms/step - loss: 0.4331 - accuracy: 0.8434 - val_loss: 0.4549 - val_accuracy: 0.8393\n",
      "Epoch 6/30\n",
      "1200/1200 [==============================] - 3s 3ms/step - loss: 0.4111 - accuracy: 0.8504 - val_loss: 0.4045 - val_accuracy: 0.8531\n",
      "Epoch 7/30\n",
      "1200/1200 [==============================] - 3s 3ms/step - loss: 0.3897 - accuracy: 0.8584 - val_loss: 0.3846 - val_accuracy: 0.8674\n",
      "Epoch 8/30\n",
      "1200/1200 [==============================] - 3s 3ms/step - loss: 0.3785 - accuracy: 0.8643 - val_loss: 0.3871 - val_accuracy: 0.8657\n",
      "Epoch 9/30\n",
      "1200/1200 [==============================] - 3s 3ms/step - loss: 0.3731 - accuracy: 0.8641 - val_loss: 0.4622 - val_accuracy: 0.8504\n",
      "Epoch 10/30\n",
      "1200/1200 [==============================] - 3s 3ms/step - loss: 0.3588 - accuracy: 0.8691 - val_loss: 0.4611 - val_accuracy: 0.8360\n",
      "Epoch 11/30\n",
      "1200/1200 [==============================] - 3s 3ms/step - loss: 0.3527 - accuracy: 0.8695 - val_loss: 0.4193 - val_accuracy: 0.8510\n",
      "Epoch 12/30\n",
      "1200/1200 [==============================] - 3s 3ms/step - loss: 0.3493 - accuracy: 0.8723 - val_loss: 0.4047 - val_accuracy: 0.8527\n",
      "Epoch 13/30\n",
      "1200/1200 [==============================] - 3s 3ms/step - loss: 0.3365 - accuracy: 0.8769 - val_loss: 0.3992 - val_accuracy: 0.8600\n",
      "Epoch 14/30\n",
      "1200/1200 [==============================] - 3s 3ms/step - loss: 0.3323 - accuracy: 0.8788 - val_loss: 0.3827 - val_accuracy: 0.8682\n",
      "Epoch 15/30\n",
      "1200/1200 [==============================] - 3s 3ms/step - loss: 0.3337 - accuracy: 0.8769 - val_loss: 0.3692 - val_accuracy: 0.8744\n",
      "Epoch 16/30\n",
      "1200/1200 [==============================] - 3s 3ms/step - loss: 0.3147 - accuracy: 0.8837 - val_loss: 0.3663 - val_accuracy: 0.8726\n",
      "Epoch 17/30\n",
      "1200/1200 [==============================] - 3s 3ms/step - loss: 0.3182 - accuracy: 0.8831 - val_loss: 0.3620 - val_accuracy: 0.8732\n",
      "Epoch 18/30\n",
      "1200/1200 [==============================] - 3s 3ms/step - loss: 0.3116 - accuracy: 0.8855 - val_loss: 0.3925 - val_accuracy: 0.8630\n",
      "Epoch 19/30\n",
      "1200/1200 [==============================] - 3s 3ms/step - loss: 0.3047 - accuracy: 0.8879 - val_loss: 0.4225 - val_accuracy: 0.8614\n",
      "Epoch 20/30\n",
      "1200/1200 [==============================] - 3s 3ms/step - loss: 0.2994 - accuracy: 0.8904 - val_loss: 0.3683 - val_accuracy: 0.8698\n",
      "Epoch 21/30\n",
      "1200/1200 [==============================] - 3s 3ms/step - loss: 0.3058 - accuracy: 0.8895 - val_loss: 0.4206 - val_accuracy: 0.8603\n",
      "Epoch 22/30\n",
      "1200/1200 [==============================] - 3s 3ms/step - loss: 0.2978 - accuracy: 0.8897 - val_loss: 0.3734 - val_accuracy: 0.8718\n",
      "Epoch 23/30\n",
      "1200/1200 [==============================] - 3s 3ms/step - loss: 0.2952 - accuracy: 0.8938 - val_loss: 0.4114 - val_accuracy: 0.8602\n",
      "Epoch 24/30\n",
      "1200/1200 [==============================] - 3s 3ms/step - loss: 0.2948 - accuracy: 0.8925 - val_loss: 0.4072 - val_accuracy: 0.8597\n",
      "Epoch 25/30\n",
      "1200/1200 [==============================] - 3s 3ms/step - loss: 0.2830 - accuracy: 0.8960 - val_loss: 0.4086 - val_accuracy: 0.8633\n",
      "Epoch 26/30\n",
      "1200/1200 [==============================] - 3s 3ms/step - loss: 0.2804 - accuracy: 0.8963 - val_loss: 0.4004 - val_accuracy: 0.8632\n",
      "Epoch 27/30\n",
      "1200/1200 [==============================] - 3s 3ms/step - loss: 0.2889 - accuracy: 0.8954 - val_loss: 0.3828 - val_accuracy: 0.8723\n",
      "Epoch 28/30\n",
      "1200/1200 [==============================] - 3s 3ms/step - loss: 0.2754 - accuracy: 0.9003 - val_loss: 0.3968 - val_accuracy: 0.8737\n",
      "Epoch 29/30\n",
      "1200/1200 [==============================] - 3s 3ms/step - loss: 0.2823 - accuracy: 0.8965 - val_loss: 0.3908 - val_accuracy: 0.8732\n",
      "Epoch 30/30\n",
      "1200/1200 [==============================] - 3s 3ms/step - loss: 0.2825 - accuracy: 0.8968 - val_loss: 0.3548 - val_accuracy: 0.8834\n"
     ]
    }
   ],
   "source": [
    "adam_performance= model1.fit(x_train, y_train, epochs=30, validation_split=0.2)"
   ]
  },
  {
   "cell_type": "code",
   "execution_count": 376,
   "metadata": {},
   "outputs": [
    {
     "name": "stderr",
     "output_type": "stream",
     "text": [
      "C:\\Users\\user\\AppData\\Local\\Packages\\PythonSoftwareFoundation.Python.3.10_qbz5n2kfra8p0\\LocalCache\\local-packages\\Python310\\site-packages\\keras\\engine\\data_adapter.py:1696: FutureWarning: The behavior of `series[i:j]` with an integer-dtype index is deprecated. In a future version, this will be treated as *label-based* indexing, consistent with e.g. `series[i]` lookups. To retain the old behavior, use `series.iloc[i:j]`. To get the future behavior, use `series.loc[i:j]`.\n",
      "  return t[start:end]\n"
     ]
    },
    {
     "name": "stdout",
     "output_type": "stream",
     "text": [
      "Epoch 1/30\n",
      "1200/1200 [==============================] - 4s 3ms/step - loss: 2.6290 - accuracy: 0.6760 - val_loss: 1.5205 - val_accuracy: 0.7241\n",
      "Epoch 2/30\n",
      "1200/1200 [==============================] - 3s 3ms/step - loss: 1.3032 - accuracy: 0.7385 - val_loss: 1.2043 - val_accuracy: 0.7436\n",
      "Epoch 3/30\n",
      "1200/1200 [==============================] - 3s 3ms/step - loss: 1.0718 - accuracy: 0.7567 - val_loss: 1.0774 - val_accuracy: 0.7581\n",
      "Epoch 4/30\n",
      "1200/1200 [==============================] - 3s 2ms/step - loss: 0.9497 - accuracy: 0.7685 - val_loss: 0.9803 - val_accuracy: 0.7678\n",
      "Epoch 5/30\n",
      "1200/1200 [==============================] - 3s 2ms/step - loss: 0.8673 - accuracy: 0.7789 - val_loss: 0.9239 - val_accuracy: 0.7734\n",
      "Epoch 6/30\n",
      "1200/1200 [==============================] - 3s 2ms/step - loss: 0.8096 - accuracy: 0.7849 - val_loss: 0.8843 - val_accuracy: 0.7756\n",
      "Epoch 7/30\n",
      "1200/1200 [==============================] - 3s 2ms/step - loss: 0.7637 - accuracy: 0.7916 - val_loss: 0.8530 - val_accuracy: 0.7793\n",
      "Epoch 8/30\n",
      "1200/1200 [==============================] - 3s 2ms/step - loss: 0.7271 - accuracy: 0.7968 - val_loss: 0.8193 - val_accuracy: 0.7836\n",
      "Epoch 9/30\n",
      "1200/1200 [==============================] - 3s 2ms/step - loss: 0.6950 - accuracy: 0.8008 - val_loss: 0.8009 - val_accuracy: 0.7892\n",
      "Epoch 10/30\n",
      "1200/1200 [==============================] - 3s 2ms/step - loss: 0.6696 - accuracy: 0.8064 - val_loss: 0.7882 - val_accuracy: 0.7874\n",
      "Epoch 11/30\n",
      "1200/1200 [==============================] - 3s 2ms/step - loss: 0.6471 - accuracy: 0.8105 - val_loss: 0.7742 - val_accuracy: 0.7909\n",
      "Epoch 12/30\n",
      "1200/1200 [==============================] - 3s 3ms/step - loss: 0.6266 - accuracy: 0.8122 - val_loss: 0.7554 - val_accuracy: 0.7912\n",
      "Epoch 13/30\n",
      "1200/1200 [==============================] - 3s 2ms/step - loss: 0.6098 - accuracy: 0.8160 - val_loss: 0.7468 - val_accuracy: 0.7964\n",
      "Epoch 14/30\n",
      "1200/1200 [==============================] - 3s 2ms/step - loss: 0.5944 - accuracy: 0.8192 - val_loss: 0.7375 - val_accuracy: 0.7981\n",
      "Epoch 15/30\n",
      "1200/1200 [==============================] - 3s 2ms/step - loss: 0.5805 - accuracy: 0.8202 - val_loss: 0.7239 - val_accuracy: 0.8010\n",
      "Epoch 16/30\n",
      "1200/1200 [==============================] - 3s 2ms/step - loss: 0.5669 - accuracy: 0.8235 - val_loss: 0.7170 - val_accuracy: 0.7995\n",
      "Epoch 17/30\n",
      "1200/1200 [==============================] - 3s 2ms/step - loss: 0.5555 - accuracy: 0.8265 - val_loss: 0.7095 - val_accuracy: 0.8003\n",
      "Epoch 18/30\n",
      "1200/1200 [==============================] - 3s 2ms/step - loss: 0.5455 - accuracy: 0.8272 - val_loss: 0.7040 - val_accuracy: 0.8012\n",
      "Epoch 19/30\n",
      "1200/1200 [==============================] - 3s 2ms/step - loss: 0.5355 - accuracy: 0.8311 - val_loss: 0.6961 - val_accuracy: 0.8044\n",
      "Epoch 20/30\n",
      "1200/1200 [==============================] - 3s 3ms/step - loss: 0.5261 - accuracy: 0.8325 - val_loss: 0.6875 - val_accuracy: 0.8062\n",
      "Epoch 21/30\n",
      "1200/1200 [==============================] - 3s 3ms/step - loss: 0.5180 - accuracy: 0.8341 - val_loss: 0.6863 - val_accuracy: 0.8036\n",
      "Epoch 22/30\n",
      "1200/1200 [==============================] - 3s 2ms/step - loss: 0.5103 - accuracy: 0.8365 - val_loss: 0.6752 - val_accuracy: 0.8068\n",
      "Epoch 23/30\n",
      "1200/1200 [==============================] - 3s 2ms/step - loss: 0.5028 - accuracy: 0.8388 - val_loss: 0.6753 - val_accuracy: 0.8066\n",
      "Epoch 24/30\n",
      "1200/1200 [==============================] - 3s 3ms/step - loss: 0.4960 - accuracy: 0.8396 - val_loss: 0.6693 - val_accuracy: 0.8074\n",
      "Epoch 25/30\n",
      "1200/1200 [==============================] - 3s 2ms/step - loss: 0.4894 - accuracy: 0.8403 - val_loss: 0.6658 - val_accuracy: 0.8093\n",
      "Epoch 26/30\n",
      "1200/1200 [==============================] - 3s 2ms/step - loss: 0.4831 - accuracy: 0.8429 - val_loss: 0.6625 - val_accuracy: 0.8102\n",
      "Epoch 27/30\n",
      "1200/1200 [==============================] - 3s 2ms/step - loss: 0.4774 - accuracy: 0.8443 - val_loss: 0.6611 - val_accuracy: 0.8106\n",
      "Epoch 28/30\n",
      "1200/1200 [==============================] - 3s 2ms/step - loss: 0.4718 - accuracy: 0.8447 - val_loss: 0.6536 - val_accuracy: 0.8109\n",
      "Epoch 29/30\n",
      "1200/1200 [==============================] - 3s 2ms/step - loss: 0.4664 - accuracy: 0.8478 - val_loss: 0.6505 - val_accuracy: 0.8133\n",
      "Epoch 30/30\n",
      "1200/1200 [==============================] - 3s 2ms/step - loss: 0.4610 - accuracy: 0.8473 - val_loss: 0.6472 - val_accuracy: 0.8157\n"
     ]
    }
   ],
   "source": [
    "adagrad_performance= model2.fit(x_train, y_train, epochs=30, validation_split=0.2)"
   ]
  },
  {
   "cell_type": "code",
   "execution_count": 377,
   "metadata": {},
   "outputs": [
    {
     "name": "stdout",
     "output_type": "stream",
     "text": [
      "Epoch 1/30\n"
     ]
    },
    {
     "name": "stderr",
     "output_type": "stream",
     "text": [
      "C:\\Users\\user\\AppData\\Local\\Packages\\PythonSoftwareFoundation.Python.3.10_qbz5n2kfra8p0\\LocalCache\\local-packages\\Python310\\site-packages\\keras\\engine\\data_adapter.py:1696: FutureWarning: The behavior of `series[i:j]` with an integer-dtype index is deprecated. In a future version, this will be treated as *label-based* indexing, consistent with e.g. `series[i]` lookups. To retain the old behavior, use `series.iloc[i:j]`. To get the future behavior, use `series.loc[i:j]`.\n",
      "  return t[start:end]\n"
     ]
    },
    {
     "name": "stdout",
     "output_type": "stream",
     "text": [
      "1200/1200 [==============================] - 4s 3ms/step - loss: 1.9912 - accuracy: 0.6960 - val_loss: 0.5714 - val_accuracy: 0.7961\n",
      "Epoch 2/30\n",
      "1200/1200 [==============================] - 3s 3ms/step - loss: 0.6094 - accuracy: 0.7905 - val_loss: 0.5171 - val_accuracy: 0.8233\n",
      "Epoch 3/30\n",
      "1200/1200 [==============================] - 3s 3ms/step - loss: 0.5399 - accuracy: 0.8189 - val_loss: 0.5845 - val_accuracy: 0.8209\n",
      "Epoch 4/30\n",
      "1200/1200 [==============================] - 3s 3ms/step - loss: 0.5007 - accuracy: 0.8335 - val_loss: 0.4879 - val_accuracy: 0.8534\n",
      "Epoch 5/30\n",
      "1200/1200 [==============================] - 3s 3ms/step - loss: 0.4741 - accuracy: 0.8402 - val_loss: 0.5291 - val_accuracy: 0.8360\n",
      "Epoch 6/30\n",
      "1200/1200 [==============================] - 3s 3ms/step - loss: 0.4602 - accuracy: 0.8466 - val_loss: 0.5612 - val_accuracy: 0.8128\n",
      "Epoch 7/30\n",
      "1200/1200 [==============================] - 3s 3ms/step - loss: 0.4537 - accuracy: 0.8526 - val_loss: 0.4658 - val_accuracy: 0.8500\n",
      "Epoch 8/30\n",
      "1200/1200 [==============================] - 3s 2ms/step - loss: 0.4436 - accuracy: 0.8541 - val_loss: 0.5180 - val_accuracy: 0.8483\n",
      "Epoch 9/30\n",
      "1200/1200 [==============================] - 4s 3ms/step - loss: 0.4392 - accuracy: 0.8577 - val_loss: 0.5393 - val_accuracy: 0.8632\n",
      "Epoch 10/30\n",
      "1200/1200 [==============================] - 3s 3ms/step - loss: 0.4295 - accuracy: 0.8574 - val_loss: 0.5862 - val_accuracy: 0.8398\n",
      "Epoch 11/30\n",
      "1200/1200 [==============================] - 3s 2ms/step - loss: 0.4195 - accuracy: 0.8597 - val_loss: 0.4976 - val_accuracy: 0.8562\n",
      "Epoch 12/30\n",
      "1200/1200 [==============================] - 3s 3ms/step - loss: 0.4553 - accuracy: 0.8602 - val_loss: 0.4845 - val_accuracy: 0.8542\n",
      "Epoch 13/30\n",
      "1200/1200 [==============================] - 3s 3ms/step - loss: 0.4266 - accuracy: 0.8655 - val_loss: 0.6115 - val_accuracy: 0.8573\n",
      "Epoch 14/30\n",
      "1200/1200 [==============================] - 3s 3ms/step - loss: 0.4346 - accuracy: 0.8646 - val_loss: 0.6327 - val_accuracy: 0.8529\n",
      "Epoch 15/30\n",
      "1200/1200 [==============================] - 3s 3ms/step - loss: 0.4636 - accuracy: 0.8643 - val_loss: 0.6546 - val_accuracy: 0.8628\n",
      "Epoch 16/30\n",
      "1200/1200 [==============================] - 3s 2ms/step - loss: 0.4133 - accuracy: 0.8676 - val_loss: 0.6384 - val_accuracy: 0.8344\n",
      "Epoch 17/30\n",
      "1200/1200 [==============================] - 3s 3ms/step - loss: 0.4258 - accuracy: 0.8679 - val_loss: 0.7918 - val_accuracy: 0.8555\n",
      "Epoch 18/30\n",
      "1200/1200 [==============================] - 3s 2ms/step - loss: 0.4207 - accuracy: 0.8684 - val_loss: 0.7145 - val_accuracy: 0.8422\n",
      "Epoch 19/30\n",
      "1200/1200 [==============================] - 3s 2ms/step - loss: 0.4336 - accuracy: 0.8671 - val_loss: 0.8630 - val_accuracy: 0.7960\n",
      "Epoch 20/30\n",
      "1200/1200 [==============================] - 3s 3ms/step - loss: 0.4820 - accuracy: 0.8691 - val_loss: 0.6000 - val_accuracy: 0.8665\n",
      "Epoch 21/30\n",
      "1200/1200 [==============================] - 3s 3ms/step - loss: 0.4022 - accuracy: 0.8711 - val_loss: 0.6835 - val_accuracy: 0.8605\n",
      "Epoch 22/30\n",
      "1200/1200 [==============================] - 3s 3ms/step - loss: 0.4011 - accuracy: 0.8715 - val_loss: 0.7117 - val_accuracy: 0.8408\n",
      "Epoch 23/30\n",
      "1200/1200 [==============================] - 3s 2ms/step - loss: 0.4004 - accuracy: 0.8717 - val_loss: 0.5972 - val_accuracy: 0.8604\n",
      "Epoch 24/30\n",
      "1200/1200 [==============================] - 3s 3ms/step - loss: 0.4107 - accuracy: 0.8716 - val_loss: 0.7563 - val_accuracy: 0.8081\n",
      "Epoch 25/30\n",
      "1200/1200 [==============================] - 3s 2ms/step - loss: 0.3942 - accuracy: 0.8727 - val_loss: 0.7927 - val_accuracy: 0.8622\n",
      "Epoch 26/30\n",
      "1200/1200 [==============================] - 3s 2ms/step - loss: 0.4100 - accuracy: 0.8741 - val_loss: 0.6511 - val_accuracy: 0.8516\n",
      "Epoch 27/30\n",
      "1200/1200 [==============================] - 3s 2ms/step - loss: 0.4350 - accuracy: 0.8735 - val_loss: 0.6849 - val_accuracy: 0.8317\n",
      "Epoch 28/30\n",
      "1200/1200 [==============================] - 3s 3ms/step - loss: 0.4068 - accuracy: 0.8745 - val_loss: 1.0761 - val_accuracy: 0.8666\n",
      "Epoch 29/30\n",
      "1200/1200 [==============================] - 3s 2ms/step - loss: 0.4397 - accuracy: 0.8740 - val_loss: 0.9230 - val_accuracy: 0.8339\n",
      "Epoch 30/30\n",
      "1200/1200 [==============================] - 3s 2ms/step - loss: 0.4707 - accuracy: 0.8751 - val_loss: 0.6309 - val_accuracy: 0.8666\n"
     ]
    }
   ],
   "source": [
    "rms_performance = model3.fit(x_train, y_train, epochs=30, validation_split=0.2)"
   ]
  },
  {
   "cell_type": "code",
   "execution_count": 378,
   "metadata": {},
   "outputs": [
    {
     "name": "stderr",
     "output_type": "stream",
     "text": [
      "C:\\Users\\user\\AppData\\Local\\Packages\\PythonSoftwareFoundation.Python.3.10_qbz5n2kfra8p0\\LocalCache\\local-packages\\Python310\\site-packages\\keras\\engine\\data_adapter.py:1696: FutureWarning: The behavior of `series[i:j]` with an integer-dtype index is deprecated. In a future version, this will be treated as *label-based* indexing, consistent with e.g. `series[i]` lookups. To retain the old behavior, use `series.iloc[i:j]`. To get the future behavior, use `series.loc[i:j]`.\n",
      "  return t[start:end]\n"
     ]
    },
    {
     "name": "stdout",
     "output_type": "stream",
     "text": [
      "Epoch 1/30\n",
      "1200/1200 [==============================] - 5s 3ms/step - loss: 1.8687 - accuracy: 0.7398 - val_loss: 0.7112 - val_accuracy: 0.7832\n",
      "Epoch 2/30\n",
      "1200/1200 [==============================] - 3s 3ms/step - loss: 0.6247 - accuracy: 0.7961 - val_loss: 0.7122 - val_accuracy: 0.7599\n",
      "Epoch 3/30\n",
      "1200/1200 [==============================] - 3s 3ms/step - loss: 0.5454 - accuracy: 0.8155 - val_loss: 0.5897 - val_accuracy: 0.8217\n",
      "Epoch 4/30\n",
      "1200/1200 [==============================] - 3s 3ms/step - loss: 0.4870 - accuracy: 0.8289 - val_loss: 0.4395 - val_accuracy: 0.8409\n",
      "Epoch 5/30\n",
      "1200/1200 [==============================] - 3s 3ms/step - loss: 0.4532 - accuracy: 0.8408 - val_loss: 0.4665 - val_accuracy: 0.8357\n",
      "Epoch 6/30\n",
      "1200/1200 [==============================] - 3s 3ms/step - loss: 0.4364 - accuracy: 0.8453 - val_loss: 0.4658 - val_accuracy: 0.8350\n",
      "Epoch 7/30\n",
      "1200/1200 [==============================] - 3s 3ms/step - loss: 0.4209 - accuracy: 0.8502 - val_loss: 0.4701 - val_accuracy: 0.8403\n",
      "Epoch 8/30\n",
      "1200/1200 [==============================] - 3s 3ms/step - loss: 0.4099 - accuracy: 0.8510 - val_loss: 0.4215 - val_accuracy: 0.8497\n",
      "Epoch 9/30\n",
      "1200/1200 [==============================] - 3s 3ms/step - loss: 0.3851 - accuracy: 0.8594 - val_loss: 0.4255 - val_accuracy: 0.8561\n",
      "Epoch 10/30\n",
      "1200/1200 [==============================] - 3s 3ms/step - loss: 0.3767 - accuracy: 0.8630 - val_loss: 0.3816 - val_accuracy: 0.8649\n",
      "Epoch 11/30\n",
      "1200/1200 [==============================] - 3s 3ms/step - loss: 0.3636 - accuracy: 0.8669 - val_loss: 0.3923 - val_accuracy: 0.8635\n",
      "Epoch 12/30\n",
      "1200/1200 [==============================] - 3s 3ms/step - loss: 0.3595 - accuracy: 0.8693 - val_loss: 0.3980 - val_accuracy: 0.8637\n",
      "Epoch 13/30\n",
      "1200/1200 [==============================] - 3s 3ms/step - loss: 0.3588 - accuracy: 0.8683 - val_loss: 0.3986 - val_accuracy: 0.8609\n",
      "Epoch 14/30\n",
      "1200/1200 [==============================] - 3s 3ms/step - loss: 0.3383 - accuracy: 0.8764 - val_loss: 0.3953 - val_accuracy: 0.8602\n",
      "Epoch 15/30\n",
      "1200/1200 [==============================] - 3s 3ms/step - loss: 0.3439 - accuracy: 0.8752 - val_loss: 0.3727 - val_accuracy: 0.8726\n",
      "Epoch 16/30\n",
      "1200/1200 [==============================] - 3s 3ms/step - loss: 0.3329 - accuracy: 0.8786 - val_loss: 0.3657 - val_accuracy: 0.8754\n",
      "Epoch 17/30\n",
      "1200/1200 [==============================] - 3s 3ms/step - loss: 0.3268 - accuracy: 0.8807 - val_loss: 0.3913 - val_accuracy: 0.8622\n",
      "Epoch 18/30\n",
      "1200/1200 [==============================] - 3s 3ms/step - loss: 0.3198 - accuracy: 0.8825 - val_loss: 0.4334 - val_accuracy: 0.8593\n",
      "Epoch 19/30\n",
      "1200/1200 [==============================] - 3s 3ms/step - loss: 0.3190 - accuracy: 0.8839 - val_loss: 0.3833 - val_accuracy: 0.8717\n",
      "Epoch 20/30\n",
      "1200/1200 [==============================] - 3s 3ms/step - loss: 0.3144 - accuracy: 0.8842 - val_loss: 0.3782 - val_accuracy: 0.8726\n",
      "Epoch 21/30\n",
      "1200/1200 [==============================] - 3s 3ms/step - loss: 0.3114 - accuracy: 0.8873 - val_loss: 0.3637 - val_accuracy: 0.8747\n",
      "Epoch 22/30\n",
      "1200/1200 [==============================] - 3s 3ms/step - loss: 0.3035 - accuracy: 0.8889 - val_loss: 0.3775 - val_accuracy: 0.8735\n",
      "Epoch 23/30\n",
      "1200/1200 [==============================] - 3s 3ms/step - loss: 0.3041 - accuracy: 0.8870 - val_loss: 0.4311 - val_accuracy: 0.8629\n",
      "Epoch 24/30\n",
      "1200/1200 [==============================] - 3s 3ms/step - loss: 0.3038 - accuracy: 0.8891 - val_loss: 0.3949 - val_accuracy: 0.8712\n",
      "Epoch 25/30\n",
      "1200/1200 [==============================] - 3s 3ms/step - loss: 0.2991 - accuracy: 0.8895 - val_loss: 0.3665 - val_accuracy: 0.8803\n",
      "Epoch 26/30\n",
      "1200/1200 [==============================] - 3s 3ms/step - loss: 0.2961 - accuracy: 0.8915 - val_loss: 0.3816 - val_accuracy: 0.8770\n",
      "Epoch 27/30\n",
      "1200/1200 [==============================] - 3s 3ms/step - loss: 0.3081 - accuracy: 0.8884 - val_loss: 0.3629 - val_accuracy: 0.8767\n",
      "Epoch 28/30\n",
      "1200/1200 [==============================] - 3s 3ms/step - loss: 0.2877 - accuracy: 0.8947 - val_loss: 0.4024 - val_accuracy: 0.8687\n",
      "Epoch 29/30\n",
      "1200/1200 [==============================] - 3s 3ms/step - loss: 0.2917 - accuracy: 0.8924 - val_loss: 0.4088 - val_accuracy: 0.8709\n",
      "Epoch 30/30\n",
      "1200/1200 [==============================] - 3s 3ms/step - loss: 0.2949 - accuracy: 0.8923 - val_loss: 0.4051 - val_accuracy: 0.8693\n"
     ]
    }
   ],
   "source": [
    "nadam_performance = model4.fit(x_train, y_train, epochs=30, validation_split=0.2)"
   ]
  },
  {
   "attachments": {},
   "cell_type": "markdown",
   "metadata": {},
   "source": [
    "5-Outcome visualization"
   ]
  },
  {
   "cell_type": "code",
   "execution_count": 379,
   "metadata": {},
   "outputs": [
    {
     "data": {
      "text/plain": [
       "<matplotlib.legend.Legend at 0x25eb1a42a10>"
      ]
     },
     "execution_count": 379,
     "metadata": {},
     "output_type": "execute_result"
    },
    {
     "data": {
      "image/png": "[encoded data removed]",
      "text/plain": [
       "<Figure size 1800x1000 with 1 Axes>"
      ]
     },
     "metadata": {},
     "output_type": "display_data"
    }
   ],
   "source": [
    "fig, ax = plt.subplots(figsize=(18, 10))\n",
    "ax.plot(adamax_performance.history[\"val_accuracy\"], label=\"adamax accuracy\")\n",
    "ax.plot(adagrad_performance.history[\"val_accuracy\"], label=\"adagrad accuracy\")\n",
    "ax.plot(adam_performance.history[\"val_accuracy\"], label=\"adam accuracy\")\n",
    "ax.plot(rms_performance.history[\"val_accuracy\"], label=\"rms prop accuracy\")\n",
    "ax.plot(nadam_performance.history[\"val_accuracy\"], label=\"nadam accuracy\")\n",
    "ax.legend()"
   ]
  },
  {
   "cell_type": "code",
   "execution_count": 380,
   "metadata": {},
   "outputs": [
    {
     "data": {
      "text/plain": [
       "<matplotlib.legend.Legend at 0x25eb275aad0>"
      ]
     },
     "execution_count": 380,
     "metadata": {},
     "output_type": "execute_result"
    },
    {
     "data": {
      "image/png": "[encoded data removed]",
      "text/plain": [
       "<Figure size 1200x500 with 1 Axes>"
      ]
     },
     "metadata": {},
     "output_type": "display_data"
    }
   ],
   "source": [
    "fig, ax = plt.subplots(figsize=(12, 5))\n",
    "ax.plot(adamax_performance.history[\"val_loss\"], label=\"adamax loss\")\n",
    "ax.plot(adam_performance.history[\"val_loss\"], label=\"adam loss\")\n",
    "ax.plot(adagrad_performance.history[\"val_loss\"], label=\"adagrad loss\")\n",
    "ax.plot(rms_performance.history[\"val_loss\"], label=\"rms prop loss\")\n",
    "ax.plot(nadam_performance.history[\"val_loss\"], label=\"nadam loss\")\n",
    "ax.legend()"
   ]
  },
  {
   "cell_type": "code",
   "execution_count": 401,
   "metadata": {},
   "outputs": [],
   "source": [
    "#As you could see,in 30 epochs Adam has proven to be more accurate while Adagrad has proven to be more stable"
   ]
  },
  {
   "cell_type": "code",
   "execution_count": 381,
   "metadata": {},
   "outputs": [
    {
     "data": {
      "text/plain": [
       "0.8819791674613953"
      ]
     },
     "execution_count": 381,
     "metadata": {},
     "output_type": "execute_result"
    }
   ],
   "source": [
    "#pinpointing the best accuracy for each optimizer\n",
    "m_rank=adamax_performance.history['val_accuracy']\n",
    "m_rank.sort(reverse=True)\n",
    "m_rank[0]"
   ]
  },
  {
   "cell_type": "code",
   "execution_count": 382,
   "metadata": {},
   "outputs": [
    {
     "data": {
      "text/plain": [
       "0.8834375143051147"
      ]
     },
     "execution_count": 382,
     "metadata": {},
     "output_type": "execute_result"
    }
   ],
   "source": [
    "m1_rank=adam_performance.history['val_accuracy']\n",
    "m1_rank.sort(reverse=True)\n",
    "m1_rank[0]"
   ]
  },
  {
   "cell_type": "code",
   "execution_count": 395,
   "metadata": {},
   "outputs": [
    {
     "data": {
      "text/plain": [
       "0.8157291412353516"
      ]
     },
     "execution_count": 395,
     "metadata": {},
     "output_type": "execute_result"
    }
   ],
   "source": [
    "m2_rank=adagrad_performance.history['val_accuracy']\n",
    "m2_rank.sort(reverse=True)\n",
    "m2_rank[0]"
   ]
  },
  {
   "cell_type": "code",
   "execution_count": 384,
   "metadata": {},
   "outputs": [
    {
     "data": {
      "text/plain": [
       "0.8665624856948853"
      ]
     },
     "execution_count": 384,
     "metadata": {},
     "output_type": "execute_result"
    }
   ],
   "source": [
    "m3_rank=rms_performance.history['val_accuracy']\n",
    "m3_rank.sort(reverse=True)\n",
    "m3_rank[0]"
   ]
  },
  {
   "cell_type": "code",
   "execution_count": 385,
   "metadata": {},
   "outputs": [
    {
     "data": {
      "text/plain": [
       "0.8803125023841858"
      ]
     },
     "execution_count": 385,
     "metadata": {},
     "output_type": "execute_result"
    }
   ],
   "source": [
    "m4_rank=nadam_performance.history['val_accuracy']\n",
    "m4_rank.sort(reverse=True)\n",
    "m4_rank[0]"
   ]
  },
  {
   "cell_type": "code",
   "execution_count": 402,
   "metadata": {},
   "outputs": [],
   "source": [
    "Final_list=[m1_rank[0],m2_rank[0],m3_rank[0],m4_rank[0]]"
   ]
  },
  {
   "cell_type": "code",
   "execution_count": 403,
   "metadata": {},
   "outputs": [],
   "source": [
    "Final_list.sort(reverse=True)"
   ]
  },
  {
   "cell_type": "code",
   "execution_count": 404,
   "metadata": {},
   "outputs": [
    {
     "name": "stdout",
     "output_type": "stream",
     "text": [
      "the best accuracy was 0.8834375143051147\n"
     ]
    }
   ],
   "source": [
    "print('the best accuracy was',Final_list[0])"
   ]
  },
  {
   "attachments": {},
   "cell_type": "markdown",
   "metadata": {},
   "source": [
    "6-Evaluating the models on test datas"
   ]
  },
  {
   "cell_type": "code",
   "execution_count": 389,
   "metadata": {},
   "outputs": [
    {
     "data": {
      "text/plain": [
       "[0.4436635673046112, 0.877916693687439]"
      ]
     },
     "execution_count": 389,
     "metadata": {},
     "output_type": "execute_result"
    }
   ],
   "source": [
    "model.evaluate(x_test, y_test, verbose=0)"
   ]
  },
  {
   "cell_type": "code",
   "execution_count": 390,
   "metadata": {},
   "outputs": [
    {
     "data": {
      "text/plain": [
       "[0.36748120188713074, 0.8755833506584167]"
      ]
     },
     "execution_count": 390,
     "metadata": {},
     "output_type": "execute_result"
    }
   ],
   "source": [
    "model1.evaluate(x_test, y_test, verbose=0)"
   ]
  },
  {
   "cell_type": "code",
   "execution_count": 391,
   "metadata": {},
   "outputs": [
    {
     "data": {
      "text/plain": [
       "[0.6839015483856201, 0.8078333139419556]"
      ]
     },
     "execution_count": 391,
     "metadata": {},
     "output_type": "execute_result"
    }
   ],
   "source": [
    "model2.evaluate(x_test, y_test, verbose=0)"
   ]
  },
  {
   "cell_type": "code",
   "execution_count": 392,
   "metadata": {},
   "outputs": [
    {
     "data": {
      "text/plain": [
       "[0.7678424715995789, 0.8661666512489319]"
      ]
     },
     "execution_count": 392,
     "metadata": {},
     "output_type": "execute_result"
    }
   ],
   "source": [
    "model3.evaluate(x_test, y_test, verbose=0)"
   ]
  },
  {
   "cell_type": "code",
   "execution_count": 393,
   "metadata": {},
   "outputs": [
    {
     "data": {
      "text/plain": [
       "[0.4118392765522003, 0.8658333420753479]"
      ]
     },
     "execution_count": 393,
     "metadata": {},
     "output_type": "execute_result"
    }
   ],
   "source": [
    "model4.evaluate(x_test, y_test, verbose=0)"
   ]
  },
  {
   "cell_type": "code",
   "execution_count": 405,
   "metadata": {},
   "outputs": [],
   "source": [
    "#As you could see Adam had the second best accuracy and the lowest loss"
   ]
  }
 ],
 "metadata": {
  "kernelspec": {
   "display_name": "Python 3",
   "language": "python",
   "name": "python3"
  },
  "language_info": {
   "codemirror_mode": {
    "name": "ipython",
    "version": 3
   },
   "file_extension": ".py",
   "mimetype": "text/x-python",
   "name": "python",
   "nbconvert_exporter": "python",
   "pygments_lexer": "ipython3",
   "version": "3.10.7"
  },
  "orig_nbformat": 4,
  "vscode": {
   "interpreter": {
    "hash": "7b1f2b33e866b0bf2409397e5f58ba9cdf170d3b7f64c8f359c79998e2f88ad4"
   }
  }
 },
 "nbformat": 4,
 "nbformat_minor": 2
}
